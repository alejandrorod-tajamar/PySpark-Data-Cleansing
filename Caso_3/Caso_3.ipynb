{
 "cells": [
  {
   "cell_type": "markdown",
   "metadata": {
    "application/vnd.databricks.v1+cell": {
     "cellMetadata": {
      "byteLimit": 2048000,
      "rowLimit": 10000
     },
     "inputWidgets": {},
     "nuid": "1f826429-1b0b-452b-98d5-d724d06f8ba3",
     "showTitle": false,
     "tableResultSettingsMap": {},
     "title": ""
    }
   },
   "source": [
    "# Explorando tendencias de mercado de Airbnb"
   ]
  },
  {
   "cell_type": "markdown",
   "metadata": {
    "application/vnd.databricks.v1+cell": {
     "cellMetadata": {
      "byteLimit": 2048000,
      "rowLimit": 10000
     },
     "inputWidgets": {},
     "nuid": "30017573-ddfa-442e-931f-69e52cab3f33",
     "showTitle": false,
     "tableResultSettingsMap": {},
     "title": ""
    }
   },
   "source": [
    "La ciudad de Nueva York tiene una variedad de anuncios de Airbnb para satisfacer la alta demanda de alojamiento temporal para viajeros, con diferentes niveles de precios, tipos de habitaciones y ubicaciones."
   ]
  },
  {
   "cell_type": "markdown",
   "metadata": {
    "application/vnd.databricks.v1+cell": {
     "cellMetadata": {
      "byteLimit": 2048000,
      "rowLimit": 10000
     },
     "inputWidgets": {},
     "nuid": "9113a8f5-7192-4887-b383-2d285a405f0f",
     "showTitle": false,
     "tableResultSettingsMap": {},
     "title": ""
    }
   },
   "source": [
    "La ciudad de Nueva York, es una de las ciudades más visitadas del mundo. Hay muchos anuncios de Airbnb en la ciudad de Nueva York para satisfacer la alta demanda de alojamiento temporal para viajeros, que puede durar desde unas pocas noches hasta muchos meses. En este proyecto, analizaremos más de cerca el mercado de Airbnb de Nueva York combinando datos de varios tipos de archivos como .csv, .tsv y .xlsx.\n",
    "\n",
    "Recuerde que los archivos CSV, TSV y Excel son tres formatos comunes para almacenar datos. Tiene a su disposición [tres archivos](https://tajamar365.sharepoint.com/:f:/s/3405-MasterIA2024-2025/EoXMgjAJLLNJqWDyKDig8kABSUkpWj_HGQjl267qNnHS9g?e=foxjFc) que contienen datos sobre los anuncios de Airbnb de 2019:  \n",
    "\n",
    "- `airbnb_price.csv `: Este es un archivo CSV que contiene datos sobre precios y ubicaciones de anuncios de Airbnb.  \n",
    "  1. `listing_id`: identificador único del anuncio  \n",
    "  2. `price`: precio del anuncio por noche en USD  \n",
    "  3. `nbhood_full`: nombre del distrito y del barrio donde se encuentra el anuncio  \n",
    "    \n",
    "\n",
    "- `airbnb_room_type.xlsx`: Este es un archivo Excel que contiene datos sobre las descripciones de los anuncios de Airbnb y los tipos de habitaciones.  \n",
    "  1. `listing_id`: identificador único del anuncio  \n",
    "  2. `description`: descripción del anuncio     \n",
    "  3. `room_type`: Airbnb tiene tres tipos de habitaciones: habitaciones compartidas, habitaciones privadas y casas o apartamentos completos \n",
    "\n",
    "\n",
    "- `airbnb_last_review.tsv`: Este es un archivo TSV que contiene datos sobre los nombres de los anfitriones de Airbnb y las fechas de revisión.  \n",
    "  1. `listing_id`: identificador único del anuncio  \n",
    "  2. `host_name`:  nombre del anfitrión del anuncio  \n",
    "  3. `last_review`: fecha en la que se revisó el anuncio por última vez   "
   ]
  },
  {
   "cell_type": "markdown",
   "metadata": {
    "application/vnd.databricks.v1+cell": {
     "cellMetadata": {
      "byteLimit": 2048000,
      "rowLimit": 10000
     },
     "inputWidgets": {},
     "nuid": "bab5e15d-251d-4092-9ec3-61f8a0d84f43",
     "showTitle": false,
     "tableResultSettingsMap": {},
     "title": ""
    }
   },
   "source": [
    "Como consultor que trabaja para una empresa inmobiliaria emergente, ha recopilado datos de anuncios de Airbnb de varias fuentes para investigar el mercado de alquileres a corto plazo en Nueva York. Analizará estos datos para brindar información sobre habitaciones privadas a la empresa inmobiliaria."
   ]
  },
  {
   "cell_type": "markdown",
   "metadata": {
    "application/vnd.databricks.v1+cell": {
     "cellMetadata": {
      "byteLimit": 2048000,
      "rowLimit": 10000
     },
     "inputWidgets": {},
     "nuid": "3db66806-50c8-46b2-ab8b-fb66b3602f7d",
     "showTitle": false,
     "tableResultSettingsMap": {},
     "title": ""
    }
   },
   "source": [
    "- ¿Cuáles son las fechas de las primeras y las últimas reseñas? Almacene estos valores como dos variables independientes con los nombres que prefiera.\n",
    "- ¿Cuántos de los anuncios son habitaciones privadas? Guárdelo en cualquier variable.\n",
    "- ¿Cuál es el precio promedio de los anuncios? Redondee a los dos decimales más cercanos y guárdelo en una variable.\n",
    "- Combine las nuevas variables en un DataFrame llamado review_dates con cuatro columnas en el siguiente orden: first_reviewed, last_reviewed, nb_private_rooms y avg_price. El DataFrame solo debe contener una fila de valores."
   ]
  },
  {
   "cell_type": "markdown",
   "metadata": {
    "application/vnd.databricks.v1+cell": {
     "cellMetadata": {
      "byteLimit": 2048000,
      "rowLimit": 10000
     },
     "inputWidgets": {},
     "nuid": "37a54259-6169-4361-8389-ee0f19d84396",
     "showTitle": false,
     "tableResultSettingsMap": {},
     "title": ""
    }
   },
   "source": [
    "Cargar los archivos como DataFrames (DF):"
   ]
  },
  {
   "cell_type": "code",
   "execution_count": 0,
   "metadata": {
    "application/vnd.databricks.v1+cell": {
     "cellMetadata": {
      "byteLimit": 2048000,
      "rowLimit": 10000
     },
     "inputWidgets": {},
     "nuid": "bc87f8df-a1fb-47d1-a2a4-54b38ad97511",
     "showTitle": false,
     "tableResultSettingsMap": {},
     "title": ""
    }
   },
   "outputs": [
    {
     "output_type": "stream",
     "name": "stdout",
     "output_type": "stream",
     "text": [
      "root\n |-- listing_id: integer (nullable = true)\n |-- price: string (nullable = true)\n |-- nbhood_full: string (nullable = true)\n\n+----------+-----------+-------------------------+\n|listing_id|price      |nbhood_full              |\n+----------+-----------+-------------------------+\n|2595      |225 dollars|Manhattan, Midtown       |\n|3831      |89 dollars |Brooklyn, Clinton Hill   |\n|5099      |200 dollars|Manhattan, Murray Hill   |\n|5178      |79 dollars |Manhattan, Hell's Kitchen|\n|5238      |150 dollars|Manhattan, Chinatown     |\n+----------+-----------+-------------------------+\nonly showing top 5 rows\n\n"
     ]
    }
   ],
   "source": [
    "from pyspark.sql import SparkSession\n",
    "\n",
    "spark = SparkSession.builder.appName(\"Airbnb\").getOrCreate()\n",
    "\n",
    "# Cargar el archivo CSV en un DF\n",
    "df_price = spark.read.option(\"sep\", \",\") \\\n",
    "               .option(\"header\", \"true\") \\\n",
    "               .option(\"inferSchema\", \"true\") \\\n",
    "               .csv(\"dbfs:/FileStore/PySpark-Data-Cleansing/Caso_3/airbnb_price.csv\")\n",
    "\n",
    "# Mostrar el esquema y las primeras filas del DF\n",
    "df_price.printSchema()\n",
    "df_price.show(5, truncate=False)  # Mostrar solamente las 5 primeras líneas"
   ]
  },
  {
   "cell_type": "markdown",
   "metadata": {
    "application/vnd.databricks.v1+cell": {
     "cellMetadata": {
      "byteLimit": 2048000,
      "rowLimit": 10000
     },
     "inputWidgets": {},
     "nuid": "ad8483cc-f824-4c8f-a5bd-e80ea8ba081a",
     "showTitle": false,
     "tableResultSettingsMap": {},
     "title": ""
    }
   },
   "source": [
    "Exportar el archivo `XLSX` a `CSV` desde la aplicación de Excel e importarlo a `DBFS`. Después, leer el nuevo `CSV` en un DF.\n",
    "\n",
    "> A tener en cuenta, normalmente, los archivos `CSV` delimitan sus valores con el carácter `,` (como el caso anterior), sin embargo, en este caso se debe notar que el carácter separador es `;`."
   ]
  },
  {
   "cell_type": "code",
   "execution_count": 0,
   "metadata": {
    "application/vnd.databricks.v1+cell": {
     "cellMetadata": {
      "byteLimit": 2048000,
      "rowLimit": 10000
     },
     "inputWidgets": {},
     "nuid": "39a28b56-5b4f-49bd-bf3d-f426c15e7d14",
     "showTitle": false,
     "tableResultSettingsMap": {},
     "title": ""
    }
   },
   "outputs": [
    {
     "output_type": "stream",
     "name": "stdout",
     "output_type": "stream",
     "text": [
      "root\n |-- listing_id: string (nullable = true)\n |-- description: string (nullable = true)\n |-- room_type: string (nullable = true)\n\n+----------+-----------------------------------------+---------------+\n|listing_id|description                              |room_type      |\n+----------+-----------------------------------------+---------------+\n|2595      |Skylit Midtown Castle                    |Entire home/apt|\n|3831      |Cozy Entire Floor of Brownstone          |Entire home/apt|\n|5099      |Large Cozy 1 BR Apartment In Midtown East|Entire home/apt|\n|5178      |Large Furnished Room Near B'way          |private room   |\n|5238      |Cute & Cozy Lower East Side 1 bdrm       |Entire home/apt|\n+----------+-----------------------------------------+---------------+\nonly showing top 5 rows\n\n"
     ]
    }
   ],
   "source": [
    "# Cargar el archivo CSV en un DF\n",
    "df_room_type = spark.read.option(\"sep\", \";\") \\\n",
    "               .option(\"header\", \"true\") \\\n",
    "               .option(\"inferSchema\", \"true\") \\\n",
    "               .csv(\"dbfs:/FileStore/PySpark-Data-Cleansing/Caso_3/airbnb_room_type.csv\")\n",
    "\n",
    "df_room_type.printSchema()\n",
    "df_room_type.show(5, truncate=False)"
   ]
  },
  {
   "cell_type": "code",
   "execution_count": 0,
   "metadata": {
    "application/vnd.databricks.v1+cell": {
     "cellMetadata": {
      "byteLimit": 2048000,
      "rowLimit": 10000
     },
     "inputWidgets": {},
     "nuid": "fd6522db-a0cb-4869-81e3-d16040c61759",
     "showTitle": false,
     "tableResultSettingsMap": {},
     "title": ""
    }
   },
   "outputs": [
    {
     "output_type": "stream",
     "name": "stdout",
     "output_type": "stream",
     "text": [
      "root\n |-- listing_id: integer (nullable = true)\n |-- host_name: string (nullable = true)\n |-- last_review: string (nullable = true)\n\n+----------+-----------+------------+\n|listing_id|host_name  |last_review |\n+----------+-----------+------------+\n|2595      |Jennifer   |May 21 2019 |\n|3831      |LisaRoxanne|July 05 2019|\n|5099      |Chris      |June 22 2019|\n|5178      |Shunichi   |June 24 2019|\n|5238      |Ben        |June 09 2019|\n+----------+-----------+------------+\nonly showing top 5 rows\n\n"
     ]
    }
   ],
   "source": [
    "# Cargar el archivo TSV en un DF\n",
    "df_last_review = spark.read.option(\"sep\", \"\\t\") \\\n",
    "               .option(\"header\", \"true\") \\\n",
    "               .option(\"inferSchema\", \"true\") \\\n",
    "               .csv(\"dbfs:/FileStore/PySpark-Data-Cleansing/Caso_3/airbnb_last_review.tsv\")\n",
    "\n",
    "df_last_review.printSchema()\n",
    "df_last_review.show(5, truncate=False)"
   ]
  },
  {
   "cell_type": "markdown",
   "metadata": {
    "application/vnd.databricks.v1+cell": {
     "cellMetadata": {
      "byteLimit": 2048000,
      "rowLimit": 10000
     },
     "inputWidgets": {},
     "nuid": "8f44fadb-8650-4f7f-b79f-87cb065c209b",
     "showTitle": false,
     "tableResultSettingsMap": {},
     "title": ""
    }
   },
   "source": [
    "Convertir los DF's a Pandas:"
   ]
  },
  {
   "cell_type": "code",
   "execution_count": 0,
   "metadata": {
    "application/vnd.databricks.v1+cell": {
     "cellMetadata": {
      "byteLimit": 2048000,
      "rowLimit": 10000
     },
     "inputWidgets": {},
     "nuid": "afef84c5-7fe1-47d6-95e4-dd9bfb377b87",
     "showTitle": false,
     "tableResultSettingsMap": {},
     "title": ""
    }
   },
   "outputs": [],
   "source": [
    "import pandas as pd\n",
    "\n",
    "# Convertir los DataFrames de PySpark a Pandas\n",
    "df_price_pd = df_price.toPandas()\n",
    "df_room_type_pd = df_room_type.toPandas()\n",
    "df_last_review_pd = df_last_review.toPandas()"
   ]
  },
  {
   "cell_type": "markdown",
   "metadata": {
    "application/vnd.databricks.v1+cell": {
     "cellMetadata": {
      "byteLimit": 2048000,
      "rowLimit": 10000
     },
     "inputWidgets": {},
     "nuid": "4a5dbf01-2695-4f24-be1f-37bd8c7d13ac",
     "showTitle": false,
     "tableResultSettingsMap": {},
     "title": ""
    }
   },
   "source": [
    "Unir los tres DF's en uno solo:"
   ]
  },
  {
   "cell_type": "code",
   "execution_count": 0,
   "metadata": {
    "application/vnd.databricks.v1+cell": {
     "cellMetadata": {
      "byteLimit": 2048000,
      "rowLimit": 10000
     },
     "inputWidgets": {},
     "nuid": "5aae1560-da61-44b4-a951-b40beeb93aba",
     "showTitle": false,
     "tableResultSettingsMap": {},
     "title": ""
    }
   },
   "outputs": [
    {
     "output_type": "display_data",
     "data": {
      "text/html": [
       "<div>\n",
       "<style scoped>\n",
       "    .dataframe tbody tr th:only-of-type {\n",
       "        vertical-align: middle;\n",
       "    }\n",
       "\n",
       "    .dataframe tbody tr th {\n",
       "        vertical-align: top;\n",
       "    }\n",
       "\n",
       "    .dataframe thead th {\n",
       "        text-align: right;\n",
       "    }\n",
       "</style>\n",
       "<table border=\"1\" class=\"dataframe\">\n",
       "  <thead>\n",
       "    <tr style=\"text-align: right;\">\n",
       "      <th></th>\n",
       "      <th>listing_id</th>\n",
       "      <th>price</th>\n",
       "      <th>nbhood_full</th>\n",
       "      <th>description</th>\n",
       "      <th>room_type</th>\n",
       "      <th>host_name</th>\n",
       "      <th>last_review</th>\n",
       "    </tr>\n",
       "  </thead>\n",
       "  <tbody>\n",
       "    <tr>\n",
       "      <th>0</th>\n",
       "      <td>2595</td>\n",
       "      <td>225 dollars</td>\n",
       "      <td>Manhattan, Midtown</td>\n",
       "      <td>Skylit Midtown Castle</td>\n",
       "      <td>Entire home/apt</td>\n",
       "      <td>Jennifer</td>\n",
       "      <td>May 21 2019</td>\n",
       "    </tr>\n",
       "    <tr>\n",
       "      <th>1</th>\n",
       "      <td>3831</td>\n",
       "      <td>89 dollars</td>\n",
       "      <td>Brooklyn, Clinton Hill</td>\n",
       "      <td>Cozy Entire Floor of Brownstone</td>\n",
       "      <td>Entire home/apt</td>\n",
       "      <td>LisaRoxanne</td>\n",
       "      <td>July 05 2019</td>\n",
       "    </tr>\n",
       "    <tr>\n",
       "      <th>2</th>\n",
       "      <td>5099</td>\n",
       "      <td>200 dollars</td>\n",
       "      <td>Manhattan, Murray Hill</td>\n",
       "      <td>Large Cozy 1 BR Apartment In Midtown East</td>\n",
       "      <td>Entire home/apt</td>\n",
       "      <td>Chris</td>\n",
       "      <td>June 22 2019</td>\n",
       "    </tr>\n",
       "    <tr>\n",
       "      <th>3</th>\n",
       "      <td>5178</td>\n",
       "      <td>79 dollars</td>\n",
       "      <td>Manhattan, Hell's Kitchen</td>\n",
       "      <td>Large Furnished Room Near B'way</td>\n",
       "      <td>private room</td>\n",
       "      <td>Shunichi</td>\n",
       "      <td>June 24 2019</td>\n",
       "    </tr>\n",
       "    <tr>\n",
       "      <th>4</th>\n",
       "      <td>5238</td>\n",
       "      <td>150 dollars</td>\n",
       "      <td>Manhattan, Chinatown</td>\n",
       "      <td>Cute &amp; Cozy Lower East Side 1 bdrm</td>\n",
       "      <td>Entire home/apt</td>\n",
       "      <td>Ben</td>\n",
       "      <td>June 09 2019</td>\n",
       "    </tr>\n",
       "  </tbody>\n",
       "</table>\n",
       "</div>"
      ]
     },
     "metadata": {
      "application/vnd.databricks.v1+output": {
       "addedWidgets": {},
       "arguments": {},
       "data": "<div>\n<style scoped>\n    .dataframe tbody tr th:only-of-type {\n        vertical-align: middle;\n    }\n\n    .dataframe tbody tr th {\n        vertical-align: top;\n    }\n\n    .dataframe thead th {\n        text-align: right;\n    }\n</style>\n<table border=\"1\" class=\"dataframe\">\n  <thead>\n    <tr style=\"text-align: right;\">\n      <th></th>\n      <th>listing_id</th>\n      <th>price</th>\n      <th>nbhood_full</th>\n      <th>description</th>\n      <th>room_type</th>\n      <th>host_name</th>\n      <th>last_review</th>\n    </tr>\n  </thead>\n  <tbody>\n    <tr>\n      <th>0</th>\n      <td>2595</td>\n      <td>225 dollars</td>\n      <td>Manhattan, Midtown</td>\n      <td>Skylit Midtown Castle</td>\n      <td>Entire home/apt</td>\n      <td>Jennifer</td>\n      <td>May 21 2019</td>\n    </tr>\n    <tr>\n      <th>1</th>\n      <td>3831</td>\n      <td>89 dollars</td>\n      <td>Brooklyn, Clinton Hill</td>\n      <td>Cozy Entire Floor of Brownstone</td>\n      <td>Entire home/apt</td>\n      <td>LisaRoxanne</td>\n      <td>July 05 2019</td>\n    </tr>\n    <tr>\n      <th>2</th>\n      <td>5099</td>\n      <td>200 dollars</td>\n      <td>Manhattan, Murray Hill</td>\n      <td>Large Cozy 1 BR Apartment In Midtown East</td>\n      <td>Entire home/apt</td>\n      <td>Chris</td>\n      <td>June 22 2019</td>\n    </tr>\n    <tr>\n      <th>3</th>\n      <td>5178</td>\n      <td>79 dollars</td>\n      <td>Manhattan, Hell's Kitchen</td>\n      <td>Large Furnished Room Near B'way</td>\n      <td>private room</td>\n      <td>Shunichi</td>\n      <td>June 24 2019</td>\n    </tr>\n    <tr>\n      <th>4</th>\n      <td>5238</td>\n      <td>150 dollars</td>\n      <td>Manhattan, Chinatown</td>\n      <td>Cute &amp; Cozy Lower East Side 1 bdrm</td>\n      <td>Entire home/apt</td>\n      <td>Ben</td>\n      <td>June 09 2019</td>\n    </tr>\n  </tbody>\n</table>\n</div>",
       "datasetInfos": [],
       "metadata": {},
       "removedWidgets": [],
       "textData": null,
       "type": "htmlSandbox"
      }
     },
     "output_type": "display_data"
    }
   ],
   "source": [
    "# Asegúrate de que 'listing_id' tenga el mismo tipo en todos los DataFrames\n",
    "df_price_pd['listing_id'] = df_price_pd['listing_id'].astype(str)\n",
    "df_room_type_pd['listing_id'] = df_room_type_pd['listing_id'].astype(str)\n",
    "df_last_review_pd['listing_id'] = df_last_review_pd['listing_id'].astype(str)\n",
    "\n",
    "# Realizar las uniones\n",
    "df_airbnb_pd = pd.merge(df_price_pd, df_room_type_pd, on=\"listing_id\")\n",
    "df_airbnb_pd = pd.merge(df_airbnb_pd, df_last_review_pd, on=\"listing_id\")\n",
    "\n",
    "# Ver los primeros registros del DataFrame combinado\n",
    "df_airbnb_pd.head()"
   ]
  },
  {
   "cell_type": "markdown",
   "metadata": {
    "application/vnd.databricks.v1+cell": {
     "cellMetadata": {
      "byteLimit": 2048000,
      "rowLimit": 10000
     },
     "inputWidgets": {},
     "nuid": "d5c0f6f3-a6d8-4092-b86b-afceca50fdb9",
     "showTitle": false,
     "tableResultSettingsMap": {},
     "title": ""
    }
   },
   "source": [
    "### ¿Cuáles son las fechas de las primeras y las últimas reseñas? Almacene estos valores como dos variables independientes con los nombres que prefiera."
   ]
  },
  {
   "cell_type": "code",
   "execution_count": 0,
   "metadata": {
    "application/vnd.databricks.v1+cell": {
     "cellMetadata": {
      "byteLimit": 2048000,
      "rowLimit": 10000
     },
     "inputWidgets": {},
     "nuid": "53ee92e0-4bbe-42f1-9f60-3b6a262b36e6",
     "showTitle": false,
     "tableResultSettingsMap": {},
     "title": ""
    }
   },
   "outputs": [
    {
     "output_type": "stream",
     "name": "stdout",
     "output_type": "stream",
     "text": [
      "La primera reseña fue hecha el Jan 01 2019\nLa reseña más reciente fue hecha el Jul 09 2019\n"
     ]
    }
   ],
   "source": [
    "# Obtener la primera y última fecha de reseña\n",
    "first_reviewed = df_airbnb_pd[\"last_review\"].min()\n",
    "last_reviewed = df_airbnb_pd[\"last_review\"].max()\n",
    "\n",
    "# Mostrar los resultados\n",
    "print(f\"La primera reseña fue hecha el {first_review.strftime('%b %d %Y')}\")\n",
    "print(f\"La reseña más reciente fue hecha el {last_review.strftime('%b %d %Y')}\")"
   ]
  },
  {
   "cell_type": "markdown",
   "metadata": {
    "application/vnd.databricks.v1+cell": {
     "cellMetadata": {
      "byteLimit": 2048000,
      "rowLimit": 10000
     },
     "inputWidgets": {},
     "nuid": "078c6c2d-588e-4a29-8140-eaca9cd78c4f",
     "showTitle": false,
     "tableResultSettingsMap": {},
     "title": ""
    }
   },
   "source": [
    "### ¿Cuántos de los anuncios son habitaciones privadas? Guárdelo en cualquier variable."
   ]
  },
  {
   "cell_type": "code",
   "execution_count": 0,
   "metadata": {
    "application/vnd.databricks.v1+cell": {
     "cellMetadata": {
      "byteLimit": 2048000,
      "rowLimit": 10000
     },
     "inputWidgets": {},
     "nuid": "7b474c78-b565-41b7-86c8-376dfcc773e5",
     "showTitle": false,
     "tableResultSettingsMap": {},
     "title": ""
    }
   },
   "outputs": [
    {
     "output_type": "stream",
     "name": "stdout",
     "output_type": "stream",
     "text": [
      "Hay 11282 habitaciones privadas.\n"
     ]
    }
   ],
   "source": [
    "# Obtener la suma de los registros cuyo tipo de habitación sea 'private room'\n",
    "n_private_rooms = (df_airbnb_pd[\"room_type\"].str.lower() == \"private room\").sum()\n",
    "\n",
    "print(f\"Hay {n_private_rooms} habitaciones privadas.\")"
   ]
  },
  {
   "cell_type": "markdown",
   "metadata": {
    "application/vnd.databricks.v1+cell": {
     "cellMetadata": {
      "byteLimit": 2048000,
      "rowLimit": 10000
     },
     "inputWidgets": {},
     "nuid": "46727c82-ad4d-4784-b5ed-54fe20475c92",
     "showTitle": false,
     "tableResultSettingsMap": {},
     "title": ""
    }
   },
   "source": [
    "### ¿Cuál es el precio promedio de los anuncios? Redondee a los dos decimales más cercanos y guárdelo en una variable."
   ]
  },
  {
   "cell_type": "code",
   "execution_count": 0,
   "metadata": {
    "application/vnd.databricks.v1+cell": {
     "cellMetadata": {
      "byteLimit": 2048000,
      "rowLimit": 10000
     },
     "inputWidgets": {},
     "nuid": "3839d457-09bd-4719-aad0-f97260e5105d",
     "showTitle": false,
     "tableResultSettingsMap": {},
     "title": ""
    }
   },
   "outputs": [
    {
     "output_type": "stream",
     "name": "stdout",
     "output_type": "stream",
     "text": [
      "El precio promedio de los anuncios es 141.78 dólares.\n"
     ]
    }
   ],
   "source": [
    "# Eliminar el texto \" dollars\" y convertir a tipo numérico\n",
    "df_airbnb_pd['price'] = df_airbnb_pd['price'].replace(r'[^\\d.]', '', regex=True).astype(float)\n",
    "\n",
    "# Calcular el precio promedio\n",
    "avg_price = df_airbnb_pd[\"price\"].mean()\n",
    "\n",
    "# Imprimir el resultado con formato de dos decimales\n",
    "print(f\"El precio promedio de los anuncios es {'{:.2f}'.format(avg_price)} dólares.\")"
   ]
  },
  {
   "cell_type": "markdown",
   "metadata": {
    "application/vnd.databricks.v1+cell": {
     "cellMetadata": {
      "byteLimit": 2048000,
      "rowLimit": 10000
     },
     "inputWidgets": {},
     "nuid": "afbc8ec4-6614-425e-a2fb-71f488c60906",
     "showTitle": false,
     "tableResultSettingsMap": {},
     "title": ""
    }
   },
   "source": [
    "### Combine las nuevas variables en un DataFrame llamado review_dates con cuatro columnas en el siguiente orden: first_reviewed, last_reviewed, nb_private_rooms y avg_price. El DataFrame solo debe contener una fila de valores."
   ]
  },
  {
   "cell_type": "code",
   "execution_count": 0,
   "metadata": {
    "application/vnd.databricks.v1+cell": {
     "cellMetadata": {
      "byteLimit": 2048000,
      "rowLimit": 10000
     },
     "inputWidgets": {},
     "nuid": "0150e8e9-0634-4c4f-8fa0-cba7d0fa0fc8",
     "showTitle": false,
     "tableResultSettingsMap": {},
     "title": ""
    }
   },
   "outputs": [
    {
     "output_type": "display_data",
     "data": {
      "text/html": [
       "<div>\n",
       "<style scoped>\n",
       "    .dataframe tbody tr th:only-of-type {\n",
       "        vertical-align: middle;\n",
       "    }\n",
       "\n",
       "    .dataframe tbody tr th {\n",
       "        vertical-align: top;\n",
       "    }\n",
       "\n",
       "    .dataframe thead th {\n",
       "        text-align: right;\n",
       "    }\n",
       "</style>\n",
       "<table border=\"1\" class=\"dataframe\">\n",
       "  <thead>\n",
       "    <tr style=\"text-align: right;\">\n",
       "      <th></th>\n",
       "      <th>first_reviewed</th>\n",
       "      <th>last_reviewed</th>\n",
       "      <th>n_private_rooms</th>\n",
       "      <th>avg_price</th>\n",
       "    </tr>\n",
       "  </thead>\n",
       "  <tbody>\n",
       "    <tr>\n",
       "      <th>0</th>\n",
       "      <td>2019-01-01</td>\n",
       "      <td>2019-07-09</td>\n",
       "      <td>11282</td>\n",
       "      <td>141.78</td>\n",
       "    </tr>\n",
       "  </tbody>\n",
       "</table>\n",
       "</div>"
      ]
     },
     "metadata": {
      "application/vnd.databricks.v1+output": {
       "addedWidgets": {},
       "arguments": {},
       "data": "<div>\n<style scoped>\n    .dataframe tbody tr th:only-of-type {\n        vertical-align: middle;\n    }\n\n    .dataframe tbody tr th {\n        vertical-align: top;\n    }\n\n    .dataframe thead th {\n        text-align: right;\n    }\n</style>\n<table border=\"1\" class=\"dataframe\">\n  <thead>\n    <tr style=\"text-align: right;\">\n      <th></th>\n      <th>first_reviewed</th>\n      <th>last_reviewed</th>\n      <th>n_private_rooms</th>\n      <th>avg_price</th>\n    </tr>\n  </thead>\n  <tbody>\n    <tr>\n      <th>0</th>\n      <td>2019-01-01</td>\n      <td>2019-07-09</td>\n      <td>11282</td>\n      <td>141.78</td>\n    </tr>\n  </tbody>\n</table>\n</div>",
       "datasetInfos": [],
       "metadata": {},
       "removedWidgets": [],
       "textData": null,
       "type": "htmlSandbox"
      }
     },
     "output_type": "display_data"
    }
   ],
   "source": [
    "review_dates = pd.DataFrame(\n",
    "    {\n",
    "        \"first_reviewed\": [first_review],\n",
    "        \"last_reviewed\": [last_review],\n",
    "        \"n_private_rooms\": [n_private_rooms],\n",
    "        \"avg_price\": [round(avg_price, 2)]\n",
    "    }\n",
    ")\n",
    "\n",
    "review_dates"
   ]
  }
 ],
 "metadata": {
  "application/vnd.databricks.v1+notebook": {
   "dashboards": [],
   "environmentMetadata": null,
   "language": "python",
   "notebookMetadata": {
    "pythonIndentUnit": 4
   },
   "notebookName": "Caso_3",
   "widgets": {}
  }
 },
 "nbformat": 4,
 "nbformat_minor": 0
}
