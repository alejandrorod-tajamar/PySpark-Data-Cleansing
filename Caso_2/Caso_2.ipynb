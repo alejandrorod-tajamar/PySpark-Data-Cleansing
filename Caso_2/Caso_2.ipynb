{
 "cells": [
  {
   "cell_type": "markdown",
   "metadata": {
    "application/vnd.databricks.v1+cell": {
     "cellMetadata": {
      "byteLimit": 2048000,
      "rowLimit": 10000
     },
     "inputWidgets": {},
     "nuid": "7bc88472-0819-44bb-a870-05c265cca4c5",
     "showTitle": false,
     "tableResultSettingsMap": {},
     "title": ""
    }
   },
   "source": [
    "# Encontrando insights de la UEFA Champions League"
   ]
  },
  {
   "cell_type": "markdown",
   "metadata": {
    "application/vnd.databricks.v1+cell": {
     "cellMetadata": {
      "byteLimit": 2048000,
      "rowLimit": 10000
     },
     "inputWidgets": {},
     "nuid": "dec9c196-3f29-444f-a2f7-13e3827b29ef",
     "showTitle": false,
     "tableResultSettingsMap": {},
     "title": ""
    }
   },
   "source": [
    "La Liga de Campeones de la UEFA, a menudo llamada Liga de Campeones, es una competencia anual de fútbol por excelencia que cautiva a los fanáticos de todo el mundo. Establecida en 1955 como la Copa de Clubes Campeones de Europa, evolucionó a la Liga de Campeones de la UEFA en 1992, ampliando su atractivo. El formato moderno cuenta con 32 equipos de clubes de primer nivel seleccionados en función de su desempeño en la liga nacional, lo que aumenta la intriga.  \n",
    "\n",
    "Este evento electrizante trasciende los deportes y se convierte en una celebración de la unidad, la cultura y el orgullo nacional. Los fanáticos, vestidos con los colores de sus países, crean una atmósfera eléctrica, lo que hace que el torneo sea tanto sobre los espectadores como sobre los jugadores. Financieramente, la Liga de Campeones es un salvavidas para los clubes, ya que aumenta los ingresos y ofrece oportunidades transformadoras. Sin embargo, genera debates sobre las disparidades de riqueza en el fútbol europeo.  \n",
    "\n",
    "La Liga de Campeones es sinónimo de rivalidades históricas, triunfos de los desvalidos y brillantez individual. Para los jugadores, representa la cima de su carrera, mientras que para los fanáticos, es un fenómeno cultural. El himno y los rituales icónicos enriquecen la experiencia futbolística. En 200 palabras, la UEFA Champions League es el epítome de la excelencia del fútbol europeo, que ofrece momentos inolvidables, recompensas económicas y un impacto cultural único, con 32 clubes de primer nivel que se suman a su atractivo."
   ]
  },
  {
   "cell_type": "markdown",
   "metadata": {
    "application/vnd.databricks.v1+cell": {
     "cellMetadata": {
      "byteLimit": 2048000,
      "rowLimit": 10000
     },
     "inputWidgets": {},
     "nuid": "3ff8fe53-6686-4ae2-8c5b-662e85535ff5",
     "showTitle": false,
     "tableResultSettingsMap": {},
     "title": ""
    }
   },
   "source": [
    "**Nombres de las tablas o ficheros a utilizar**:  \n",
    "[uefa_2020.csv](https://tajamar365.sharepoint.com/:x:/s/3405-MasterIA2024-2025/EQuW8d16tZJKpYZN6jR480sBgc1IYypAw9hGHKQARS560g?e=7TybBU)  \n",
    "[uefa_2021.csv](https://tajamar365.sharepoint.com/:x:/s/3405-MasterIA2024-2025/ESG8YBrjD3tBky3aGT0MwIABNt_PQxFVVYVlWMnZYUmV8g?e=VrYHtX)  \n",
    "[uefa_2022.csv](https://tajamar365.sharepoint.com/:x:/s/3405-MasterIA2024-2025/Ecf8O8U8sxJLoW9Bkd2ZVzgBb_gZc35mNcprnR9FMlzliQ?e=Vn3a6v)  \n",
    "- Todas las tablas tienen las mismas columnas y data types"
   ]
  },
  {
   "cell_type": "markdown",
   "metadata": {
    "application/vnd.databricks.v1+cell": {
     "cellMetadata": {
      "byteLimit": 2048000,
      "rowLimit": 10000
     },
     "inputWidgets": {},
     "nuid": "910b06ac-21ef-4f0c-bb95-9611f90d7635",
     "showTitle": false,
     "tableResultSettingsMap": {},
     "title": ""
    }
   },
   "source": [
    "| Column | Definition | Data type |\n",
    "|--------|------------|-----------|\n",
    "| `STAGE`| Stage of the March | `VARCHAR(50)` |\n",
    "| `DATE` | When the match occurred. | `DATE` |\n",
    "| `PENS` | Did the match end with penalty | `VARCHAR(50)` |\n",
    "| `PENS_HOME_SCORE` | In case of penalty, score by home team | `VARCHAR(50)` |\n",
    "| `PENS_AWAY_SCORE` | In case of penalty, score by away team | `VARCHAR(50)` |\n",
    "| `TEAM_NAME_HOME` | Team home name | `VARCHAR(50)` |\n",
    "| `TEAM_NAME_AWAY`| Team away  name | `VARCHAR(50)` |\n",
    "| `TEAM_HOME_SCORE` | Team home score | `NUMBER` |\n",
    "| `TEAM_AWAY_SCORE` | Team away score | `NUMBER` |\n",
    "| `POSSESSION_HOME` | Ball possession for the home team | `FLOAT` |\n",
    "| `POSSESSION_AWAY` | Ball possession for the away team | `FLOAT` |\n",
    "| `TOTAL_SHOTS_HOME` | Number of shots by the home team | `NUMBER` |\n",
    "| `TOTAL_SHOTS_AWAY` | Number of shots by the away team | `NUMBER`\n",
    "| `SHOTS_ON_TARGET_HOME` | Total shot for home team | `FLOAT` |\n",
    "| `SHOTS_ON_TARGET_AWAY` | Total shot for away team | `FLOAT` |\n",
    "| `DUELS_WON_HOME` | duel win possession of ball - for home team | `NUMBER` |\n",
    "| `DUELS_WON_AWAY` | duel win possession of ball - for away team | `NUMBER` \n",
    "| `PREDICTION_TEAM_HOME_WIN` | Probability of home team to win | `FLOAT` |\n",
    "| `PREDICTION_DRAW` | Probability of draw | `FLOAT` |\n",
    "| `PREDICTION_TEAM_AWAY_WIN` | Probability of away team to win | `FLOAT` |\n",
    "| `LOCATION` | Stadium where the match was held | `VARCHAR(50)` |"
   ]
  },
  {
   "cell_type": "markdown",
   "metadata": {
    "application/vnd.databricks.v1+cell": {
     "cellMetadata": {
      "byteLimit": 2048000,
      "rowLimit": 10000
     },
     "inputWidgets": {},
     "nuid": "b6ed3067-8a31-45a7-9120-766336560fef",
     "showTitle": false,
     "tableResultSettingsMap": {},
     "title": ""
    }
   },
   "source": [
    "### Requerimientos:  \n",
    "-Puedes utilizar SQL o PySpark"
   ]
  },
  {
   "cell_type": "code",
   "execution_count": 0,
   "metadata": {
    "application/vnd.databricks.v1+cell": {
     "cellMetadata": {
      "byteLimit": 2048000,
      "rowLimit": 10000
     },
     "inputWidgets": {},
     "nuid": "b50942e0-eb43-4118-86ce-336322895880",
     "showTitle": false,
     "tableResultSettingsMap": {},
     "title": ""
    }
   },
   "outputs": [],
   "source": [
    "from pyspark.sql import SparkSession\n",
    "\n",
    "# Iniciar una sesión de Spark\n",
    "spark = SparkSession.builder.appName(\"UEFA_Analysis\").getOrCreate()"
   ]
  },
  {
   "cell_type": "markdown",
   "metadata": {
    "application/vnd.databricks.v1+cell": {
     "cellMetadata": {
      "byteLimit": 2048000,
      "rowLimit": 10000
     },
     "inputWidgets": {},
     "nuid": "96872dad-7ed6-4372-84e9-763aa2d6c83f",
     "showTitle": false,
     "tableResultSettingsMap": {},
     "title": ""
    }
   },
   "source": [
    "1. Encuentra los 3 equipos que anotaron más goles jugando en su estadio en la UEFA Champions League 2020-21. El resultado debe contener dos columnas: TEAM_NAME_HOME y TEAM_HOME_SCORE ordenadas en orden descendente de TEAM_HOME_SCORE. Guarda la consulta (o el notebook) como TEAM_HOME_WITH_MOST_GOALS."
   ]
  },
  {
   "cell_type": "markdown",
   "metadata": {
    "application/vnd.databricks.v1+cell": {
     "cellMetadata": {
      "byteLimit": 2048000,
      "rowLimit": 10000
     },
     "inputWidgets": {},
     "nuid": "ecac0bfe-85b2-48bb-bf71-25a04a1f98be",
     "showTitle": false,
     "tableResultSettingsMap": {},
     "title": ""
    }
   },
   "source": [
    "Primero, cargar el archivo CSV de la temporada 2020-2021 en un DataFrame (DF):"
   ]
  },
  {
   "cell_type": "code",
   "execution_count": 0,
   "metadata": {
    "application/vnd.databricks.v1+cell": {
     "cellMetadata": {
      "byteLimit": 2048000,
      "rowLimit": 10000
     },
     "inputWidgets": {},
     "nuid": "a0e49f3b-bbb2-45fd-91b8-02605879703f",
     "showTitle": false,
     "tableResultSettingsMap": {},
     "title": ""
    }
   },
   "outputs": [],
   "source": [
    "# Cargar el archivo en un DF\n",
    "df_2020 = spark.read.option(\"header\", \"true\") \\\n",
    "                    .option(\"inferSchema\", \"true\") \\\n",
    "                    .csv(\"dbfs:/FileStore/PySpark-Data-Cleansing/Caso_2/uefa_2020.csv\")\n",
    "\n",
    "# Mostrar el esquema y el contenido del DF\n",
    "df_2020.printSchema()\n",
    "df_2020.display()"
   ]
  },
  {
   "cell_type": "markdown",
   "metadata": {
    "application/vnd.databricks.v1+cell": {
     "cellMetadata": {
      "byteLimit": 2048000,
      "rowLimit": 10000
     },
     "inputWidgets": {},
     "nuid": "0c8e7c6f-367d-42c0-8193-495ebd115de4",
     "showTitle": false,
     "tableResultSettingsMap": {},
     "title": ""
    }
   },
   "source": [
    "Utilizar las funciones `groupBy`, `agg` y `sum` para agrupar las filas según el nombre del equipo local, y añadir otra columna que sea la suma de `TEAM_HOME_SCORE` para ese nombre de equipo, ess decir, el total de goles que ha anotado el equipo jugando como local.\n",
    "\n",
    "Después, utilizar `orderBy` con las opciones `desc` y `limit(3)` para ordenar los resultados según los 3 valores más altos de `TEAM_HOME_SCORE`."
   ]
  },
  {
   "cell_type": "code",
   "execution_count": 0,
   "metadata": {
    "application/vnd.databricks.v1+cell": {
     "cellMetadata": {
      "byteLimit": 2048000,
      "rowLimit": 10000
     },
     "inputWidgets": {},
     "nuid": "15d2ad49-9e80-48a2-8e14-b846d751debf",
     "showTitle": false,
     "tableResultSettingsMap": {},
     "title": ""
    }
   },
   "outputs": [],
   "source": [
    "from pyspark.sql.functions import sum, col\n",
    "\n",
    "# Agrupar por TEAM_NAME_HOME y sumar los goles de cada equipo en casa\n",
    "df_2020 = df_2020.groupBy(\"TEAM_NAME_HOME\").agg(sum(\"TEAM_HOME_SCORE\").alias(\"TEAM_HOME_SCORE\"))\n",
    "\n",
    "# Ordenar por el total de goles en casa en orden descendente y seleccionar los primeros 3\n",
    "df_2020 = df_2020.orderBy(col(\"TEAM_HOME_SCORE\").desc()).limit(3)\n",
    "\n",
    "df_2020.display()"
   ]
  },
  {
   "cell_type": "markdown",
   "metadata": {
    "application/vnd.databricks.v1+cell": {
     "cellMetadata": {
      "byteLimit": 2048000,
      "rowLimit": 10000
     },
     "inputWidgets": {},
     "nuid": "b375e92e-5c96-4ee8-8c35-29b8e7ab887f",
     "showTitle": false,
     "tableResultSettingsMap": {},
     "title": ""
    }
   },
   "source": [
    "2. Encuentra el equipo con posesión mayoritaria la mayor cantidad de veces durante la UEFA Champions League 2021-22. El resultado debe incluir dos columnas: TEAM_NAME y GAME_COUNT, que es la cantidad de veces que el equipo tuvo posesión mayoritaria durante un partido de fútbol. Guarda esta consulta (o el notebook) como TEAM_WITH_MAJORITY_POSSESSION"
   ]
  },
  {
   "cell_type": "markdown",
   "metadata": {
    "application/vnd.databricks.v1+cell": {
     "cellMetadata": {
      "byteLimit": 2048000,
      "rowLimit": 10000
     },
     "inputWidgets": {},
     "nuid": "097e245e-99b4-494e-95c7-30ce77701743",
     "showTitle": false,
     "tableResultSettingsMap": {},
     "title": ""
    }
   },
   "source": [
    "Primero, cargar el archivo CSV de la temporada 2021-2022 en un DF:"
   ]
  },
  {
   "cell_type": "code",
   "execution_count": 0,
   "metadata": {
    "application/vnd.databricks.v1+cell": {
     "cellMetadata": {
      "byteLimit": 2048000,
      "rowLimit": 10000
     },
     "inputWidgets": {},
     "nuid": "83929aa7-ccad-49d7-be17-7fc97bcc7b07",
     "showTitle": false,
     "tableResultSettingsMap": {},
     "title": ""
    }
   },
   "outputs": [],
   "source": [
    "# Cargar el archivo en un DF\n",
    "df_2021 = spark.read.option(\"header\", \"true\") \\\n",
    "                    .option(\"inferSchema\", \"true\") \\\n",
    "                    .csv(\"dbfs:/FileStore/PySpark-Data-Cleansing/Caso_2/uefa_2021.csv\")\n",
    "\n",
    "# Mostrar el esquema y el contenido del DF\n",
    "df_2021.printSchema()\n",
    "df_2021.display()"
   ]
  },
  {
   "cell_type": "markdown",
   "metadata": {
    "application/vnd.databricks.v1+cell": {
     "cellMetadata": {
      "byteLimit": 2048000,
      "rowLimit": 10000
     },
     "inputWidgets": {},
     "nuid": "32e814d4-e4df-4bab-b316-b372e5f6eaa9",
     "showTitle": false,
     "tableResultSettingsMap": {},
     "title": ""
    }
   },
   "source": [
    "Se utilizan las funciones `when` y `otherwise` para crear dos nuevas columnas, `MAJORITY_POSSESSION_HOME` y `MAJORITY_POSSESSION_AWAY`, que son `1` si el equipo tuvo posesión mayoritaria y `0` si no."
   ]
  },
  {
   "cell_type": "code",
   "execution_count": 0,
   "metadata": {
    "application/vnd.databricks.v1+cell": {
     "cellMetadata": {
      "byteLimit": 2048000,
      "rowLimit": 10000
     },
     "inputWidgets": {},
     "nuid": "33678062-913d-4e6e-baf4-b331b126ea68",
     "showTitle": false,
     "tableResultSettingsMap": {},
     "title": ""
    }
   },
   "outputs": [],
   "source": [
    "# Comparar las posesiones y filtrar los partidos con posesión mayoritaria\n",
    "df_2021 = df_2021.withColumn(\n",
    "    \"MAJORITY_POSSESSION_HOME\", \n",
    "    when(col(\"POSSESSION_HOME\") > col(\"POSSESSION_AWAY\"), 1).otherwise(0)\n",
    ").withColumn(\n",
    "    \"MAJORITY_POSSESSION_AWAY\", \n",
    "    when(col(\"POSSESSION_AWAY\") > col(\"POSSESSION_HOME\"), 1).otherwise(0)\n",
    ")\n",
    "\n",
    "df_2021.printSchema()\n",
    "df_2021.display()"
   ]
  },
  {
   "cell_type": "markdown",
   "metadata": {
    "application/vnd.databricks.v1+cell": {
     "cellMetadata": {
      "byteLimit": 2048000,
      "rowLimit": 10000
     },
     "inputWidgets": {},
     "nuid": "c9eae1ec-8bb1-4eec-9752-b33eb62b40df",
     "showTitle": false,
     "tableResultSettingsMap": {},
     "title": ""
    }
   },
   "source": [
    "Usar `filter` para seleccionar solo aquellos partidos donde uno de los equipos tuvo posesión mayoritaria."
   ]
  },
  {
   "cell_type": "code",
   "execution_count": 0,
   "metadata": {
    "application/vnd.databricks.v1+cell": {
     "cellMetadata": {
      "byteLimit": 2048000,
      "rowLimit": 10000
     },
     "inputWidgets": {},
     "nuid": "ddd04cef-38c3-4af6-87d9-f5ef68ea5dcb",
     "showTitle": false,
     "tableResultSettingsMap": {},
     "title": ""
    }
   },
   "outputs": [],
   "source": [
    "print(f\"Registros antes de aplicar el filtro: {df_2021.count()}\")\n",
    "\n",
    "# Filtrar solo los partidos donde un equipo tuvo posesión mayoritaria\n",
    "df_2021 = df_2021.filter(\n",
    "    (col(\"MAJORITY_POSSESSION_HOME\") == 1) | (col(\"MAJORITY_POSSESSION_AWAY\") == 1)\n",
    ")\n",
    "\n",
    "print(f\"Registros después de aplicar el filtro: {df_2021.count()}\")"
   ]
  },
  {
   "cell_type": "markdown",
   "metadata": {
    "application/vnd.databricks.v1+cell": {
     "cellMetadata": {
      "byteLimit": 2048000,
      "rowLimit": 10000
     },
     "inputWidgets": {},
     "nuid": "13ea7e19-19a9-493b-8330-c9d9cdc4597e",
     "showTitle": false,
     "tableResultSettingsMap": {},
     "title": ""
    }
   },
   "source": [
    "Seleccionar el nombre del equipo que tuvo posesión mayoritaria en cada partido usando `when`, y luego contar la cantidad de veces que aparece cada equipo."
   ]
  },
  {
   "cell_type": "code",
   "execution_count": 0,
   "metadata": {
    "application/vnd.databricks.v1+cell": {
     "cellMetadata": {
      "byteLimit": 2048000,
      "rowLimit": 10000
     },
     "inputWidgets": {},
     "nuid": "a56c91fd-db60-4861-8487-9ec58637472f",
     "showTitle": false,
     "tableResultSettingsMap": {},
     "title": ""
    }
   },
   "outputs": [],
   "source": [
    "# Contar cuántas veces tuvo posesión mayoritaria cada equipo\n",
    "df_2021 = df_2021.select(\n",
    "    when(col(\"MAJORITY_POSSESSION_HOME\") == 1, col(\"TEAM_NAME_HOME\"))\n",
    "    .when(col(\"MAJORITY_POSSESSION_AWAY\") == 1, col(\"TEAM_NAME_AWAY\"))\n",
    "    .alias(\"TEAM_NAME\")\n",
    ").groupBy(\"TEAM_NAME\").count().withColumnRenamed(\"count\", \"GAME_COUNT\")\n",
    "\n",
    "# Ordenar por la cantidad de partidos (GAME_COUNT) en orden descendente y tomar el primer equipo\n",
    "df_2021 = df_2021.orderBy(col(\"GAME_COUNT\").desc()).limit(1)\n",
    "\n",
    "df_2021.display()"
   ]
  },
  {
   "cell_type": "markdown",
   "metadata": {
    "application/vnd.databricks.v1+cell": {
     "cellMetadata": {
      "byteLimit": 2048000,
      "rowLimit": 10000
     },
     "inputWidgets": {},
     "nuid": "7c960a38-f12d-4b88-aaad-b70de0c2323f",
     "showTitle": false,
     "tableResultSettingsMap": {},
     "title": ""
    }
   },
   "source": [
    "3. Encuentra la lista de equipos de cada fase del juego que ganaron el duelo en un partido pero terminaron perdiendo el juego en el Campeonato de la UEFA 2022-23. El resultado debe contener dos columnas: STAGE y TEAM_LOST. Guarda la consulta (o el notebook) como TEAM_WON_DUEL_LOST_GAME_STAGE_WISE."
   ]
  },
  {
   "cell_type": "markdown",
   "metadata": {
    "application/vnd.databricks.v1+cell": {
     "cellMetadata": {
      "byteLimit": 2048000,
      "rowLimit": 10000
     },
     "inputWidgets": {},
     "nuid": "4b8faa94-ec59-4a81-8510-af284c4e91ad",
     "showTitle": false,
     "tableResultSettingsMap": {},
     "title": ""
    }
   },
   "source": [
    "Primero, cargar el archivo CSV de la temporada 2022-2023 en un DF:"
   ]
  },
  {
   "cell_type": "code",
   "execution_count": 0,
   "metadata": {
    "application/vnd.databricks.v1+cell": {
     "cellMetadata": {
      "byteLimit": 2048000,
      "rowLimit": 10000
     },
     "inputWidgets": {},
     "nuid": "5b5a904a-58be-4e45-8a29-d16b3b8fa65f",
     "showTitle": false,
     "tableResultSettingsMap": {},
     "title": ""
    }
   },
   "outputs": [],
   "source": [
    "# Cargar el archivo en un DF\n",
    "df_2022 = spark.read.option(\"header\", \"true\") \\\n",
    "                    .option(\"inferSchema\", \"true\") \\\n",
    "                    .csv(\"dbfs:/FileStore/PySpark-Data-Cleansing/Caso_2/uefa_2022.csv\")\n",
    "\n",
    "# Mostrar el esquema y el contenido del DF\n",
    "df_2022.printSchema()\n",
    "df_2022.display()"
   ]
  },
  {
   "cell_type": "markdown",
   "metadata": {
    "application/vnd.databricks.v1+cell": {
     "cellMetadata": {
      "byteLimit": 2048000,
      "rowLimit": 10000
     },
     "inputWidgets": {},
     "nuid": "6085b784-3154-45b2-b123-64802c456d51",
     "showTitle": false,
     "tableResultSettingsMap": {},
     "title": ""
    }
   },
   "source": [
    "Primero, se debe eliminar el signo de porcentaje (%) para los valores de `DUELS_WON_HOME` y `DUELS_WON_AWAY` y convertir los valores a números para poder hacer comparaciones."
   ]
  },
  {
   "cell_type": "code",
   "execution_count": 0,
   "metadata": {
    "application/vnd.databricks.v1+cell": {
     "cellMetadata": {
      "byteLimit": 2048000,
      "rowLimit": 10000
     },
     "inputWidgets": {},
     "nuid": "d853ecfb-7768-410c-a1e0-a5f1f4ceb76a",
     "showTitle": false,
     "tableResultSettingsMap": {},
     "title": ""
    }
   },
   "outputs": [],
   "source": [
    "from pyspark.sql.functions import regexp_replace\n",
    "\n",
    "# Convertir los porcentajes en las columnas 'DUELS_WON_HOME' y 'DUELS_WON_AWAY' a valores numéricos\n",
    "df_2022 = df_2022.withColumn(\n",
    "    \"DUELS_WON_HOME_PERCENT\", \n",
    "    regexp_replace(col(\"DUELS_WON_HOME\"), \"%\", \"\").cast(\"float\") / 100\n",
    ")\n",
    "df_2022 = df_2022.withColumn(\n",
    "    \"DUELS_WON_AWAY_PERCENT\", \n",
    "    regexp_replace(col(\"DUELS_WON_AWAY\"), \"%\", \"\").cast(\"float\") / 100\n",
    ")\n",
    "\n",
    "df_2022.printSchema()\n",
    "df_2022.display()"
   ]
  },
  {
   "cell_type": "markdown",
   "metadata": {
    "application/vnd.databricks.v1+cell": {
     "cellMetadata": {
      "byteLimit": 2048000,
      "rowLimit": 10000
     },
     "inputWidgets": {},
     "nuid": "6c53f132-8b82-44f4-93a4-4f30be1d73d9",
     "showTitle": false,
     "tableResultSettingsMap": {},
     "title": ""
    }
   },
   "source": [
    "Comparar los valores de los porcentajes de los duelos ganados de cada equipo y decidir si un equipo ganó el duelo."
   ]
  },
  {
   "cell_type": "code",
   "execution_count": 0,
   "metadata": {
    "application/vnd.databricks.v1+cell": {
     "cellMetadata": {
      "byteLimit": 2048000,
      "rowLimit": 10000
     },
     "inputWidgets": {},
     "nuid": "2e91582f-be57-4deb-bc09-f58d6c3fcec5",
     "showTitle": false,
     "tableResultSettingsMap": {},
     "title": ""
    }
   },
   "outputs": [],
   "source": [
    "# Condición para identificar el equipo que ganó el duelo pero perdió el partido\n",
    "df_2022 = df_2022.withColumn(\n",
    "    \"TEAM_LOST\", \n",
    "    when(\n",
    "        (col(\"DUELS_WON_HOME_PERCENT\") > col(\"DUELS_WON_AWAY_PERCENT\")) & \\\n",
    "            (col(\"TEAM_HOME_SCORE\") < col(\"TEAM_AWAY_SCORE\")), col(\"TEAM_NAME_HOME\")\n",
    "    ).when(\n",
    "        (col(\"DUELS_WON_AWAY_PERCENT\") > col(\"DUELS_WON_HOME_PERCENT\")) & \\\n",
    "            (col(\"TEAM_AWAY_SCORE\") < col(\"TEAM_HOME_SCORE\")), col(\"TEAM_NAME_AWAY\")\n",
    "    ).otherwise(\"(DRAW)\")  # Mostrar que hubo empate\n",
    ")\n",
    "\n",
    "df_2022.printSchema()\n",
    "df_2022.display()"
   ]
  },
  {
   "cell_type": "markdown",
   "metadata": {
    "application/vnd.databricks.v1+cell": {
     "cellMetadata": {
      "byteLimit": 2048000,
      "rowLimit": 10000
     },
     "inputWidgets": {},
     "nuid": "a1e8749e-90c6-4c9d-b844-ea0a4b4dcf1b",
     "showTitle": false,
     "tableResultSettingsMap": {},
     "title": ""
    }
   },
   "source": [
    "Usamos `filter` para mantener solo las filas donde se cumple la condición de que un equipo ganó el duelo pero perdió el partido, y seleccionar las columnas `STAGE` y `TEAM_LOST`"
   ]
  },
  {
   "cell_type": "code",
   "execution_count": 0,
   "metadata": {
    "application/vnd.databricks.v1+cell": {
     "cellMetadata": {
      "byteLimit": 2048000,
      "rowLimit": 10000
     },
     "inputWidgets": {},
     "nuid": "fc57a1c9-34f1-4f2f-81ed-961984b94cb5",
     "showTitle": false,
     "tableResultSettingsMap": {},
     "title": ""
    }
   },
   "outputs": [],
   "source": [
    "# Filtrar solo los registros donde hay un equipo que ganó el duelo pero perdió el partido\n",
    "df_2022 = df_2022.filter(col(\"TEAM_LOST\") != \"(DRAW)\")\n",
    "\n",
    "# Seleccionar las columnas relevantes y mostrar los resultados por fase (STAGE)\n",
    "df_2022 = df_2022.select(\"STAGE\", \"TEAM_LOST\")\n",
    "\n",
    "df_2022.display()"
   ]
  }
 ],
 "metadata": {
  "application/vnd.databricks.v1+notebook": {
   "dashboards": [],
   "environmentMetadata": null,
   "language": "python",
   "notebookMetadata": {
    "pythonIndentUnit": 4
   },
   "notebookName": "Caso_2",
   "widgets": {}
  }
 },
 "nbformat": 4,
 "nbformat_minor": 0
}
